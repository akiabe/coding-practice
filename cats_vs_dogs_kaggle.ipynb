{
  "nbformat": 4,
  "nbformat_minor": 0,
  "metadata": {
    "colab": {
      "name": "cats-vs-dogs_kaggle.ipynb",
      "provenance": [],
      "authorship_tag": "ABX9TyNOpzXzK4cbs/+cpVCUicDD",
      "include_colab_link": true
    },
    "kernelspec": {
      "name": "python3",
      "display_name": "Python 3"
    },
    "accelerator": "GPU"
  },
  "cells": [
    {
      "cell_type": "markdown",
      "metadata": {
        "id": "view-in-github",
        "colab_type": "text"
      },
      "source": [
        "<a href=\"https://colab.research.google.com/github/akiabe/coding-practice/blob/master/cats_vs_dogs_kaggle.ipynb\" target=\"_parent\"><img src=\"https://colab.research.google.com/assets/colab-badge.svg\" alt=\"Open In Colab\"/></a>"
      ]
    },
    {
      "cell_type": "code",
      "metadata": {
        "id": "beaJmcebKhkj",
        "colab_type": "code",
        "colab": {
          "base_uri": "https://localhost:8080/",
          "height": 204
        },
        "outputId": "d2671671-8abc-4209-84a9-6654f76de76b"
      },
      "source": [
        "# Download example data\n",
        "!wget --no-check-certificate \\\n",
        "  https://storage.googleapis.com/mledu-datasets/cats_and_dogs_filtered.zip \\\n",
        "  -O /tmp/cats_and_dogs_filtered.zip"
      ],
      "execution_count": 4,
      "outputs": [
        {
          "output_type": "stream",
          "text": [
            "--2020-06-18 07:23:13--  https://storage.googleapis.com/mledu-datasets/cats_and_dogs_filtered.zip\n",
            "Resolving storage.googleapis.com (storage.googleapis.com)... 108.177.125.128, 2404:6800:4008:c01::80\n",
            "Connecting to storage.googleapis.com (storage.googleapis.com)|108.177.125.128|:443... connected.\n",
            "HTTP request sent, awaiting response... 200 OK\n",
            "Length: 68606236 (65M) [application/zip]\n",
            "Saving to: ‘/tmp/cats_and_dogs_filtered.zip’\n",
            "\n",
            "/tmp/cats_and_dogs_ 100%[===================>]  65.43M  61.4MB/s    in 1.1s    \n",
            "\n",
            "2020-06-18 07:23:14 (61.4 MB/s) - ‘/tmp/cats_and_dogs_filtered.zip’ saved [68606236/68606236]\n",
            "\n"
          ],
          "name": "stdout"
        }
      ]
    },
    {
      "cell_type": "code",
      "metadata": {
        "id": "pUK2xOSYId3k",
        "colab_type": "code",
        "colab": {}
      },
      "source": [
        "# Extract zip files\n",
        "import os\n",
        "import zipfile\n",
        "\n",
        "# Files PATH\n",
        "local_zip = '/tmp/cats_and_dogs_filtered.zip'\n",
        "\n",
        "# Extract zipfiles\n",
        "zip_ref = zipfile.ZipFile(local_zip, 'r')\n",
        "zip_ref.extractall('/tmp')\n",
        "zip_ref.close()"
      ],
      "execution_count": 5,
      "outputs": []
    },
    {
      "cell_type": "code",
      "metadata": {
        "id": "pRZF6Br0JbUO",
        "colab_type": "code",
        "colab": {}
      },
      "source": [
        "# Main path\n",
        "base_dir = '/tmp/cats_and_dogs_filtered'\n",
        "\n",
        "# train and valid files path\n",
        "train_dir = os.path.join(base_dir, 'train')\n",
        "valid_dir = os.path.join(base_dir, 'validation')\n",
        "\n",
        "# cats and dogs files path in train sets\n",
        "train_cats_dir = os.path.join(train_dir, 'cats')\n",
        "train_dogs_dir = os.path.join(train_dir, 'dogs')\n",
        "\n",
        "# cats and dogs files path in valid sets\n",
        "valid_cats_dir = os.path.join(valid_dir, 'cats')\n",
        "valid_dogs_dir = os.path.join(valid_dir, 'dogs')"
      ],
      "execution_count": 6,
      "outputs": []
    },
    {
      "cell_type": "code",
      "metadata": {
        "id": "W7673SyJNUmz",
        "colab_type": "code",
        "colab": {
          "base_uri": "https://localhost:8080/",
          "height": 51
        },
        "outputId": "2c98f377-628e-4775-e8fe-ebadee8ba52b"
      },
      "source": [
        "# Print out file names in train sets\n",
        "train_cat_fnames = os.listdir(train_cats_dir)\n",
        "train_dog_fnames = os.listdir(train_dogs_dir)\n",
        "print(train_cat_fnames[:5])\n",
        "print(train_dog_fnames[:5])"
      ],
      "execution_count": 7,
      "outputs": [
        {
          "output_type": "stream",
          "text": [
            "['cat.8.jpg', 'cat.151.jpg', 'cat.616.jpg', 'cat.670.jpg', 'cat.613.jpg']\n",
            "['dog.710.jpg', 'dog.657.jpg', 'dog.357.jpg', 'dog.589.jpg', 'dog.507.jpg']\n"
          ],
          "name": "stdout"
        }
      ]
    },
    {
      "cell_type": "code",
      "metadata": {
        "id": "wIecPj9jPOZe",
        "colab_type": "code",
        "colab": {
          "base_uri": "https://localhost:8080/",
          "height": 85
        },
        "outputId": "5cf351e7-73c1-44d3-e2d2-92bdb3407b9e"
      },
      "source": [
        "# Print out the file numbers\n",
        "print(\"train cats file number :\", len(os.listdir(train_cats_dir)))\n",
        "print(\"train dogs file number :\", len(os.listdir(train_dogs_dir)))\n",
        "print(\"valid cats file number :\", len(os.listdir(valid_cats_dir)))\n",
        "print(\"valid dogs file number :\", len(os.listdir(valid_dogs_dir)))"
      ],
      "execution_count": 8,
      "outputs": [
        {
          "output_type": "stream",
          "text": [
            "train cats file number : 1000\n",
            "train dogs file number : 1000\n",
            "valid cats file number : 500\n",
            "valid dogs file number : 500\n"
          ],
          "name": "stdout"
        }
      ]
    },
    {
      "cell_type": "code",
      "metadata": {
        "id": "6O5oCVWVPZyO",
        "colab_type": "code",
        "colab": {}
      },
      "source": [
        "import tensorflow as tf"
      ],
      "execution_count": 9,
      "outputs": []
    },
    {
      "cell_type": "code",
      "metadata": {
        "id": "uSq9ZIhDTpPh",
        "colab_type": "code",
        "colab": {}
      },
      "source": [
        "# Define callbacks\n",
        "class myCallback(tf.keras.callbacks.Callback):\n",
        "  def on_epoch_end(self, epoch, logs={}):\n",
        "    if(logs.get('accuracy')>0.99):\n",
        "      print(\"\\nReached 99% accuracy so cancelling training!\")\n",
        "      self.model.stop_training = True\n",
        "      \n",
        "callbacks = myCallback()"
      ],
      "execution_count": 10,
      "outputs": []
    },
    {
      "cell_type": "code",
      "metadata": {
        "id": "AA483IQhSSgV",
        "colab_type": "code",
        "colab": {
          "base_uri": "https://localhost:8080/",
          "height": 51
        },
        "outputId": "90b2d1bd-cd91-46ad-f690-2018ba022713"
      },
      "source": [
        "from tensorflow.keras.preprocessing.image import  ImageDataGenerator\n",
        "\n",
        "# Train images processing and data augmentation\n",
        "train_datagen = ImageDataGenerator(\n",
        "    rescale=1/255,\n",
        "    rotation_range=40,\n",
        "    width_shift_range=.2,\n",
        "    height_shift_range=.2,\n",
        "    shear_range=.2,\n",
        "    zoom_range=.2,\n",
        "    horizontal_flip=True,\n",
        "    fill_mode='nearest'\n",
        ")\n",
        "\n",
        "# Flow train data in batches of 10 using train_generator \n",
        "train_generator = train_datagen.flow_from_directory(\n",
        "    train_dir,\n",
        "    batch_size=10,\n",
        "    class_mode='binary',\n",
        "    target_size=(150, 150)\n",
        ")\n",
        "\n",
        "# valid images processing and data augmentation\n",
        "valid_datagen = ImageDataGenerator(\n",
        "    rescale=1/255,\n",
        "    rotation_range=40,\n",
        "    width_shift_range=.2,\n",
        "    height_shift_range=.2,\n",
        "    shear_range=.2,\n",
        "    zoom_range=.2,\n",
        "    horizontal_flip=True,\n",
        "    fill_mode='nearest'\n",
        ")\n",
        "\n",
        "# Flow valid data in batches of 10 using valid_generator \n",
        "valid_generator = valid_datagen.flow_from_directory(\n",
        "    valid_dir,\n",
        "    batch_size=10,\n",
        "    class_mode='binary',\n",
        "    target_size=(150, 150)\n",
        ")"
      ],
      "execution_count": 13,
      "outputs": [
        {
          "output_type": "stream",
          "text": [
            "Found 2000 images belonging to 2 classes.\n",
            "Found 1000 images belonging to 2 classes.\n"
          ],
          "name": "stdout"
        }
      ]
    },
    {
      "cell_type": "code",
      "metadata": {
        "id": "rsc2hzgJU2g4",
        "colab_type": "code",
        "colab": {
          "base_uri": "https://localhost:8080/",
          "height": 493
        },
        "outputId": "46aadfc5-b66a-4178-c9f9-cca3a30f71e2"
      },
      "source": [
        "# Build the simple conv net\n",
        "model = tf.keras.models.Sequential([\n",
        "    tf.keras.layers.Conv2D(32, (3,3), input_shape=(150, 150, 3), activation='relu'),\n",
        "    tf.keras.layers.MaxPooling2D(2,2),\n",
        "    \n",
        "    tf.keras.layers.Conv2D(64, (3,3), activation='relu'),\n",
        "    tf.keras.layers.MaxPooling2D(2,2),\n",
        "    \n",
        "    tf.keras.layers.Conv2D(128, (3, 3), activation='relu'),\n",
        "    tf.keras.layers.MaxPooling2D(2,2),\n",
        "    \n",
        "    tf.keras.layers.Flatten(),\n",
        "    tf.keras.layers.Dense(512, activation='relu'),\n",
        "    tf.keras.layers.Dense(128, activation='relu'),\n",
        "    tf.keras.layers.Dense(1, activation='sigmoid')\n",
        "])\n",
        "\n",
        "model.summary()"
      ],
      "execution_count": 14,
      "outputs": [
        {
          "output_type": "stream",
          "text": [
            "Model: \"sequential\"\n",
            "_________________________________________________________________\n",
            "Layer (type)                 Output Shape              Param #   \n",
            "=================================================================\n",
            "conv2d (Conv2D)              (None, 148, 148, 32)      896       \n",
            "_________________________________________________________________\n",
            "max_pooling2d (MaxPooling2D) (None, 74, 74, 32)        0         \n",
            "_________________________________________________________________\n",
            "conv2d_1 (Conv2D)            (None, 72, 72, 64)        18496     \n",
            "_________________________________________________________________\n",
            "max_pooling2d_1 (MaxPooling2 (None, 36, 36, 64)        0         \n",
            "_________________________________________________________________\n",
            "conv2d_2 (Conv2D)            (None, 34, 34, 128)       73856     \n",
            "_________________________________________________________________\n",
            "max_pooling2d_2 (MaxPooling2 (None, 17, 17, 128)       0         \n",
            "_________________________________________________________________\n",
            "flatten (Flatten)            (None, 36992)             0         \n",
            "_________________________________________________________________\n",
            "dense (Dense)                (None, 512)               18940416  \n",
            "_________________________________________________________________\n",
            "dense_1 (Dense)              (None, 128)               65664     \n",
            "_________________________________________________________________\n",
            "dense_2 (Dense)              (None, 1)                 129       \n",
            "=================================================================\n",
            "Total params: 19,099,457\n",
            "Trainable params: 19,099,457\n",
            "Non-trainable params: 0\n",
            "_________________________________________________________________\n"
          ],
          "name": "stdout"
        }
      ]
    },
    {
      "cell_type": "code",
      "metadata": {
        "id": "Q6zmA8NLXoKN",
        "colab_type": "code",
        "colab": {}
      },
      "source": [
        "# Adam optimizer\n",
        "model.compile(\n",
        "    optimizer='adam',\n",
        "    loss='binary_crossentropy',\n",
        "    metrics=['accuracy']   \n",
        ")"
      ],
      "execution_count": 22,
      "outputs": []
    },
    {
      "cell_type": "code",
      "metadata": {
        "id": "IE_XS8krYQtH",
        "colab_type": "code",
        "colab": {
          "base_uri": "https://localhost:8080/",
          "height": 697
        },
        "outputId": "a0208c4e-c0c2-4e19-b092-42b1a0c3e9d9"
      },
      "source": [
        "# Train the model\n",
        "history = model.fit(\n",
        "    train_generator,\n",
        "    steps_per_epoch=200, # batch_size * steps_per_epoch = Images\n",
        "    epochs=20,\n",
        "    verbose=2,\n",
        "    validation_data = valid_generator,\n",
        "    validation_steps=100,\n",
        "    callbacks=[callbacks]\n",
        ")"
      ],
      "execution_count": 23,
      "outputs": [
        {
          "output_type": "stream",
          "text": [
            "Epoch 1/20\n",
            "200/200 - 27s - loss: 0.5639 - accuracy: 0.7050 - val_loss: 0.5841 - val_accuracy: 0.7040\n",
            "Epoch 2/20\n",
            "200/200 - 26s - loss: 0.5502 - accuracy: 0.7295 - val_loss: 0.5920 - val_accuracy: 0.6860\n",
            "Epoch 3/20\n",
            "200/200 - 26s - loss: 0.5499 - accuracy: 0.7270 - val_loss: 0.5700 - val_accuracy: 0.6990\n",
            "Epoch 4/20\n",
            "200/200 - 26s - loss: 0.5445 - accuracy: 0.7385 - val_loss: 0.5400 - val_accuracy: 0.7300\n",
            "Epoch 5/20\n",
            "200/200 - 26s - loss: 0.5329 - accuracy: 0.7395 - val_loss: 0.5655 - val_accuracy: 0.6920\n",
            "Epoch 6/20\n",
            "200/200 - 26s - loss: 0.5221 - accuracy: 0.7490 - val_loss: 0.6142 - val_accuracy: 0.6910\n",
            "Epoch 7/20\n",
            "200/200 - 26s - loss: 0.5181 - accuracy: 0.7500 - val_loss: 0.5434 - val_accuracy: 0.7230\n",
            "Epoch 8/20\n",
            "200/200 - 26s - loss: 0.5144 - accuracy: 0.7385 - val_loss: 0.5704 - val_accuracy: 0.7130\n",
            "Epoch 9/20\n",
            "200/200 - 26s - loss: 0.5155 - accuracy: 0.7565 - val_loss: 0.5192 - val_accuracy: 0.7350\n",
            "Epoch 10/20\n",
            "200/200 - 26s - loss: 0.5016 - accuracy: 0.7565 - val_loss: 0.5423 - val_accuracy: 0.7300\n",
            "Epoch 11/20\n",
            "200/200 - 26s - loss: 0.5095 - accuracy: 0.7570 - val_loss: 0.5993 - val_accuracy: 0.6770\n",
            "Epoch 12/20\n",
            "200/200 - 26s - loss: 0.5004 - accuracy: 0.7545 - val_loss: 0.5216 - val_accuracy: 0.7440\n",
            "Epoch 13/20\n",
            "200/200 - 26s - loss: 0.4847 - accuracy: 0.7715 - val_loss: 0.5586 - val_accuracy: 0.7130\n",
            "Epoch 14/20\n",
            "200/200 - 27s - loss: 0.4770 - accuracy: 0.7785 - val_loss: 0.5402 - val_accuracy: 0.7240\n",
            "Epoch 15/20\n",
            "200/200 - 26s - loss: 0.4932 - accuracy: 0.7570 - val_loss: 0.5757 - val_accuracy: 0.6940\n",
            "Epoch 16/20\n",
            "200/200 - 26s - loss: 0.4783 - accuracy: 0.7740 - val_loss: 0.5688 - val_accuracy: 0.7000\n",
            "Epoch 17/20\n",
            "200/200 - 26s - loss: 0.4914 - accuracy: 0.7620 - val_loss: 0.5323 - val_accuracy: 0.7410\n",
            "Epoch 18/20\n",
            "200/200 - 26s - loss: 0.4944 - accuracy: 0.7510 - val_loss: 0.5155 - val_accuracy: 0.7590\n",
            "Epoch 19/20\n",
            "200/200 - 27s - loss: 0.4756 - accuracy: 0.7705 - val_loss: 0.5092 - val_accuracy: 0.7500\n",
            "Epoch 20/20\n",
            "200/200 - 27s - loss: 0.4646 - accuracy: 0.7855 - val_loss: 0.5168 - val_accuracy: 0.7350\n"
          ],
          "name": "stdout"
        }
      ]
    },
    {
      "cell_type": "code",
      "metadata": {
        "id": "yc_P8j7IbHYR",
        "colab_type": "code",
        "colab": {
          "base_uri": "https://localhost:8080/",
          "height": 562
        },
        "outputId": "6b46e5c1-775c-480f-fb41-5614a97aeab5"
      },
      "source": [
        "# Evaluating accuracy and loss for the model\n",
        "import matplotlib.pyplot as plt\n",
        "\n",
        "# Retrieve a list of list results on training and test data\n",
        "# sets for each training epoch\n",
        "acc = history.history['accuracy']\n",
        "val_acc = history.history['val_accuracy']\n",
        "loss = history.history['loss']\n",
        "val_loss = history.history['val_loss']\n",
        "\n",
        "epochs = range(len(acc)) # Get number of epochs\n",
        "\n",
        "# Plot training and validation accuracy per epoch\n",
        "plt.plot(epochs, acc)\n",
        "plt.plot(epochs, val_acc)\n",
        "plt.title('Training and validation accuracy')\n",
        "plt.figure()\n",
        "\n",
        "# Plot training and validation loss per epoch\n",
        "plt.plot(epochs, loss)\n",
        "plt.plot(epochs, val_loss)\n",
        "plt.title('Training and validation loss')"
      ],
      "execution_count": 24,
      "outputs": [
        {
          "output_type": "execute_result",
          "data": {
            "text/plain": [
              "Text(0.5, 1.0, 'Training and validation loss')"
            ]
          },
          "metadata": {
            "tags": []
          },
          "execution_count": 24
        },
        {
          "output_type": "display_data",
          "data": {
            "image/png": "[encoded data removed]",
            "text/plain": [
              "<Figure size 432x288 with 1 Axes>"
            ]
          },
          "metadata": {
            "tags": [],
            "needs_background": "light"
          }
        },
        {
          "output_type": "display_data",
          "data": {
            "image/png": "[encoded data removed]",
            "text/plain": [
              "<Figure size 432x288 with 1 Axes>"
            ]
          },
          "metadata": {
            "tags": [],
            "needs_background": "light"
          }
        }
      ]
    },
    {
      "cell_type": "code",
      "metadata": {
        "id": "QL6Ov1UkYx8e",
        "colab_type": "code",
        "colab": {}
      },
      "source": [
        "# RMSprop optimizer\n",
        "from tensorflow.keras.optimizers import RMSprop\n",
        "\n",
        "model.compile(\n",
        "    optimizer=RMSprop(lr=0.001),\n",
        "    loss='binary_crossentropy',\n",
        "    metrics=['accuracy']   \n",
        ")"
      ],
      "execution_count": 25,
      "outputs": []
    },
    {
      "cell_type": "code",
      "metadata": {
        "id": "Q9yL2hf_Z4kM",
        "colab_type": "code",
        "colab": {
          "base_uri": "https://localhost:8080/",
          "height": 697
        },
        "outputId": "5498057e-9a52-4411-886b-a4f43dda96a0"
      },
      "source": [
        "# Train the model\n",
        "history = model.fit(\n",
        "    train_generator,\n",
        "    steps_per_epoch=200,\n",
        "    epochs=20,\n",
        "    verbose=2,\n",
        "    validation_data = valid_generator,\n",
        "    validation_steps=100,\n",
        "    callbacks=[callbacks]\n",
        ")"
      ],
      "execution_count": 26,
      "outputs": [
        {
          "output_type": "stream",
          "text": [
            "Epoch 1/20\n",
            "200/200 - 27s - loss: 0.4709 - accuracy: 0.7805 - val_loss: 0.5896 - val_accuracy: 0.7260\n",
            "Epoch 2/20\n",
            "200/200 - 27s - loss: 0.4836 - accuracy: 0.7865 - val_loss: 0.5088 - val_accuracy: 0.7420\n",
            "Epoch 3/20\n",
            "200/200 - 27s - loss: 0.4802 - accuracy: 0.7755 - val_loss: 0.5487 - val_accuracy: 0.7530\n",
            "Epoch 4/20\n",
            "200/200 - 27s - loss: 0.4828 - accuracy: 0.7870 - val_loss: 0.5284 - val_accuracy: 0.7560\n",
            "Epoch 5/20\n",
            "200/200 - 27s - loss: 0.4870 - accuracy: 0.7830 - val_loss: 0.5418 - val_accuracy: 0.7310\n",
            "Epoch 6/20\n",
            "200/200 - 27s - loss: 0.4652 - accuracy: 0.7925 - val_loss: 0.5606 - val_accuracy: 0.7250\n",
            "Epoch 7/20\n",
            "200/200 - 27s - loss: 0.4612 - accuracy: 0.7945 - val_loss: 0.6266 - val_accuracy: 0.7440\n",
            "Epoch 8/20\n",
            "200/200 - 27s - loss: 0.4823 - accuracy: 0.7785 - val_loss: 0.5184 - val_accuracy: 0.7500\n",
            "Epoch 9/20\n",
            "200/200 - 27s - loss: 0.4732 - accuracy: 0.7920 - val_loss: 0.5145 - val_accuracy: 0.7610\n",
            "Epoch 10/20\n",
            "200/200 - 27s - loss: 0.4793 - accuracy: 0.7825 - val_loss: 0.5385 - val_accuracy: 0.7580\n",
            "Epoch 11/20\n",
            "200/200 - 27s - loss: 0.4778 - accuracy: 0.7890 - val_loss: 0.5833 - val_accuracy: 0.7420\n",
            "Epoch 12/20\n",
            "200/200 - 27s - loss: 0.4876 - accuracy: 0.7745 - val_loss: 0.6476 - val_accuracy: 0.6910\n",
            "Epoch 13/20\n",
            "200/200 - 27s - loss: 0.4736 - accuracy: 0.7875 - val_loss: 0.5836 - val_accuracy: 0.6850\n",
            "Epoch 14/20\n",
            "200/200 - 27s - loss: 0.4878 - accuracy: 0.7865 - val_loss: 0.5998 - val_accuracy: 0.7300\n",
            "Epoch 15/20\n",
            "200/200 - 27s - loss: 0.4541 - accuracy: 0.7975 - val_loss: 0.6637 - val_accuracy: 0.7160\n",
            "Epoch 16/20\n",
            "200/200 - 27s - loss: 0.4695 - accuracy: 0.7920 - val_loss: 0.5342 - val_accuracy: 0.7480\n",
            "Epoch 17/20\n",
            "200/200 - 27s - loss: 0.4840 - accuracy: 0.7840 - val_loss: 0.5247 - val_accuracy: 0.7420\n",
            "Epoch 18/20\n",
            "200/200 - 27s - loss: 0.4830 - accuracy: 0.7840 - val_loss: 0.4886 - val_accuracy: 0.7640\n",
            "Epoch 19/20\n",
            "200/200 - 27s - loss: 0.4916 - accuracy: 0.7860 - val_loss: 0.4971 - val_accuracy: 0.7640\n",
            "Epoch 20/20\n",
            "200/200 - 27s - loss: 0.4886 - accuracy: 0.7870 - val_loss: 0.5830 - val_accuracy: 0.7430\n"
          ],
          "name": "stdout"
        }
      ]
    },
    {
      "cell_type": "code",
      "metadata": {
        "id": "_voHTTlpiu87",
        "colab_type": "code",
        "colab": {
          "base_uri": "https://localhost:8080/"
        },
        "outputId": "934cb953-f1bd-4a0e-d9e6-a8cee4f257a7"
      },
      "source": [
        "# Evaluating accuracy and loss for the model\n",
        "import matplotlib.pyplot as plt\n",
        "\n",
        "# Retrieve a list of list results on training and test data\n",
        "# sets for each training epoch\n",
        "acc = history.history['accuracy']\n",
        "val_acc = history.history['val_accuracy']\n",
        "loss = history.history['loss']\n",
        "val_loss = history.history['val_loss']\n",
        "\n",
        "epochs = range(len(acc)) # Get number of epochs\n",
        "\n",
        "# Plot training and validation accuracy per epoch\n",
        "plt.plot(epochs, acc)\n",
        "plt.plot(epochs, val_acc)\n",
        "plt.title('Training and validation accuracy')\n",
        "plt.figure()\n",
        "\n",
        "# Plot training and validation loss per epoch\n",
        "plt.plot(epochs, loss)\n",
        "plt.plot(epochs, val_loss)\n",
        "plt.title('Training and validation loss')"
      ],
      "execution_count": 28,
      "outputs": [
        {
          "output_type": "execute_result",
          "data": {
            "text/plain": [
              "Text(0.5, 1.0, 'Training and validation loss')"
            ]
          },
          "metadata": {
            "tags": []
          },
          "execution_count": 28
        },
        {
          "output_type": "display_data",
          "data": {
            "image/png": "[encoded data removed]",
            "text/plain": [
              "<Figure size 432x288 with 1 Axes>"
            ]
          },
          "metadata": {
            "tags": [],
            "needs_background": "light"
          }
        },
        {
          "output_type": "display_data",
          "data": {
            "image/png": "[encoded data removed]",
            "text/plain": [
              "<Figure size 432x288 with 1 Axes>"
            ]
          },
          "metadata": {
            "tags": [],
            "needs_background": "light"
          }
        }
      ]
    },
    {
      "cell_type": "code",
      "metadata": {
        "id": "Pd09k9U1aTBm",
        "colab_type": "code",
        "colab": {}
      },
      "source": [
        "# Running the model\n",
        "import numpy as np\n",
        "\n",
        "from google.colab import files\n",
        "from keras.preprocessing import image\n",
        "\n",
        "uploaded=files.upload()\n",
        "\n",
        "for fn in uploaded.keys():\n",
        " \n",
        "  # predicting images\n",
        "  path='/content/' + fn\n",
        "  img=image.load_img(path, target_size=(150, 150))\n",
        "  \n",
        "  x=image.img_to_array(img)\n",
        "  x=np.expand_dims(x, axis=0)\n",
        "  images = np.vstack([x])\n",
        "  \n",
        "  classes = model.predict(images, batch_size=10)\n",
        "  \n",
        "  print(classes[0])\n",
        "  \n",
        "  if classes[0]>0:\n",
        "    print(fn + \" is a dog\")\n",
        "    \n",
        "  else:\n",
        "    print(fn + \" is a cat\")"
      ],
      "execution_count": null,
      "outputs": []
    }
  ]
}