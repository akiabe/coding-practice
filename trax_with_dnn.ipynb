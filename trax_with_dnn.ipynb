{
  "nbformat": 4,
  "nbformat_minor": 0,
  "metadata": {
    "colab": {
      "name": "trax-with-dnn.ipynb",
      "provenance": [],
      "mount_file_id": "1vcjpZ-8JCrmOScG8ompzDAPTdfiL__WO",
      "authorship_tag": "ABX9TyNlqBDiNyyqCBMQ0dNoyxbZ",
      "include_colab_link": true
    },
    "kernelspec": {
      "name": "python3",
      "display_name": "Python 3"
    },
    "accelerator": "TPU"
  },
  "cells": [
    {
      "cell_type": "markdown",
      "metadata": {
        "id": "view-in-github",
        "colab_type": "text"
      },
      "source": [
        "<a href=\"https://colab.research.google.com/github/akiabe/coding-practice/blob/master/trax_with_dnn.ipynb\" target=\"_parent\"><img src=\"https://colab.research.google.com/assets/colab-badge.svg\" alt=\"Open In Colab\"/></a>"
      ]
    },
    {
      "cell_type": "code",
      "metadata": {
        "id": "zLxkU5E0opxY",
        "colab_type": "code",
        "colab": {}
      },
      "source": [
        "!pip install -q -U trax\n",
        "import trax"
      ],
      "execution_count": 35,
      "outputs": []
    },
    {
      "cell_type": "code",
      "metadata": {
        "id": "4pq0iGHZ3YQ7",
        "colab_type": "code",
        "colab": {
          "base_uri": "https://localhost:8080/",
          "height": 54
        },
        "outputId": "47d6e6e4-b378-4be0-b004-cfd3c02ea046"
      },
      "source": [
        "from google.colab import drive\n",
        "drive.mount(\"/content/drive\")"
      ],
      "execution_count": null,
      "outputs": [
        {
          "output_type": "stream",
          "text": [
            "Drive already mounted at /content/drive; to attempt to forcibly remount, call drive.mount(\"/content/drive\", force_remount=True).\n"
          ],
          "name": "stdout"
        }
      ]
    },
    {
      "cell_type": "code",
      "metadata": {
        "id": "xEBxZqaO5QyF",
        "colab_type": "code",
        "colab": {
          "base_uri": "https://localhost:8080/",
          "height": 170
        },
        "outputId": "f38eaf83-59c9-4003-fcbb-3a68c0470adb"
      },
      "source": [
        "# test tensors and fast math\n",
        "from trax.fastmath import numpy as fastnp\n",
        "trax.fastmath.use_backend('jax')\n",
        "\n",
        "matrix = fastnp.array([\n",
        "                       [1, 2, 3],\n",
        "                       [4, 5, 6],\n",
        "                       [7, 8, 9]\n",
        "])\n",
        "vector = fastnp.ones(3)\n",
        "product = fastnp.dot(vector, matrix)\n",
        "\n",
        "print(type(matrix))\n",
        "\n",
        "print(f\"matrix :\\n{matrix}\")\n",
        "print(f\"vector :\\n{vector}\")\n",
        "print(f\"dot product :\\n{product}\")"
      ],
      "execution_count": 36,
      "outputs": [
        {
          "output_type": "stream",
          "text": [
            "<class 'jax.interpreters.xla.DeviceArray'>\n",
            "matrix :\n",
            "[[1 2 3]\n",
            " [4 5 6]\n",
            " [7 8 9]]\n",
            "vector :\n",
            "[1. 1. 1.]\n",
            "dot product :\n",
            "[12. 15. 18.]\n"
          ],
          "name": "stdout"
        }
      ]
    },
    {
      "cell_type": "code",
      "metadata": {
        "id": "jkjGgjFMJUC_",
        "colab_type": "code",
        "colab": {
          "base_uri": "https://localhost:8080/",
          "height": 51
        },
        "outputId": "644a4ee5-c4a2-4ed0-fd86-c31d3a87b22a"
      },
      "source": [
        "# gradients\n",
        "def f(x):\n",
        "  return 2.0 * x * x\n",
        "\n",
        "grad_f = trax.fastmath.grad(f)\n",
        "\n",
        "print(grad_f(1.0))\n",
        "print(grad_f(-2.0))"
      ],
      "execution_count": 37,
      "outputs": [
        {
          "output_type": "stream",
          "text": [
            "4.0\n",
            "-8.0\n"
          ],
          "name": "stdout"
        }
      ]
    },
    {
      "cell_type": "code",
      "metadata": {
        "id": "o6pXNcxoQG4m",
        "colab_type": "code",
        "colab": {
          "base_uri": "https://localhost:8080/",
          "height": 323
        },
        "outputId": "326f0bc8-fbcd-47ba-b13a-6253d185ac87"
      },
      "source": [
        "import numpy as np\n",
        "from trax import layers as tl\n",
        "\n",
        "x = np.arange(15)\n",
        "print(x)\n",
        "\n",
        "embed = tl.Embedding(\n",
        "    vocab_size=20,\n",
        "    d_feature=4\n",
        ")\n",
        "\n",
        "embed.init(\n",
        "    trax.shapes.signature(x)\n",
        ")\n",
        "\n",
        "y = embed(x)\n",
        "print(x.shape)\n",
        "print(y.shape)\n",
        "print(y)"
      ],
      "execution_count": 38,
      "outputs": [
        {
          "output_type": "stream",
          "text": [
            "[ 0  1  2  3  4  5  6  7  8  9 10 11 12 13 14]\n",
            "(15,)\n",
            "(15, 4)\n",
            "[[-1.0577534  -1.942313   -1.1480163  -0.44229656]\n",
            " [-0.02922153  0.741222    0.947727   -0.57896084]\n",
            " [ 0.8722794  -0.3139976   1.016909   -0.16104808]\n",
            " [ 1.2119057   2.3335469   0.15371336  0.11246555]\n",
            " [ 0.06260403  1.5229656   0.55029255 -0.2252464 ]\n",
            " [-0.18557116  1.2805232   0.08519783 -0.35955766]\n",
            " [ 1.2621924   0.3161323  -0.82232356 -1.2015381 ]\n",
            " [-1.3860985   0.22837402  2.4857194  -0.36892715]\n",
            " [ 0.79144067  0.16667114 -0.79280484 -1.625344  ]\n",
            " [ 0.10067508  0.37912208  1.5271277   0.12817016]\n",
            " [-0.16322467 -1.4718566  -2.7391403  -1.2465898 ]\n",
            " [ 0.49899516 -1.1553074   0.02754989 -0.25867775]\n",
            " [ 0.27598247 -1.0560894   2.472187   -0.6668469 ]\n",
            " [ 1.1305292   0.24889068  0.24556398 -0.889463  ]\n",
            " [ 1.8789382   1.1204485  -0.31733564 -0.14913593]]\n"
          ],
          "name": "stdout"
        }
      ]
    },
    {
      "cell_type": "code",
      "metadata": {
        "id": "3RARkcj7269l",
        "colab_type": "code",
        "colab": {
          "base_uri": "https://localhost:8080/",
          "height": 119
        },
        "outputId": "17a2aa25-3405-4ed8-f353-ab16a4b44e4e"
      },
      "source": [
        "model = tl.Serial(\n",
        "    tl.Embedding(vocab_size=8129, d_feature=256),\n",
        "    tl.Mean(axis=1),\n",
        "    tl.Dense(2),\n",
        "    tl.LogSoftmax()\n",
        ")\n",
        "\n",
        "print(model)"
      ],
      "execution_count": 39,
      "outputs": [
        {
          "output_type": "stream",
          "text": [
            "Serial[\n",
            "  Embedding_8129_256\n",
            "  Mean\n",
            "  Dense_2\n",
            "  LogSoftmax\n",
            "]\n"
          ],
          "name": "stdout"
        }
      ]
    },
    {
      "cell_type": "code",
      "metadata": {
        "id": "WXaWXX1q8gQy",
        "colab_type": "code",
        "colab": {
          "base_uri": "https://localhost:8080/",
          "height": 54
        },
        "outputId": "2737031a-c685-4493-eac3-f6730cad6198"
      },
      "source": [
        "train_stream = trax.data.TFDS('imdb_reviews', keys=('text', 'label'), train=True)()\n",
        "eval_stream = trax.data.TFDS('imdb_reviews', keys=('text', 'label'), train=False)()\n",
        "print(next(train_stream)) "
      ],
      "execution_count": 40,
      "outputs": [
        {
          "output_type": "stream",
          "text": [
            "(b\"This was an absolutely terrible movie. Don't be lured in by Christopher Walken or Michael Ironside. Both are great actors, but this must simply be their worst role in history. Even their great acting could not redeem this movie's ridiculous storyline. This movie is an early nineties US propaganda piece. The most pathetic scenes were those when the Columbian rebels were making their cases for revolutions. Maria Conchita Alonso appeared phony, and her pseudo-love affair with Walken was nothing but a pathetic emotional plug in a movie that was devoid of any real meaning. I am disappointed that there are movies like this, ruining actor's like Christopher Walken's good name. I could barely sit through it.\", 0)\n"
          ],
          "name": "stdout"
        }
      ]
    },
    {
      "cell_type": "code",
      "metadata": {
        "id": "WSw-NuhG-e4l",
        "colab_type": "code",
        "colab": {
          "base_uri": "https://localhost:8080/",
          "height": 34
        },
        "outputId": "d3a436aa-568a-49f5-cc6b-a4ff1d81bd83"
      },
      "source": [
        "print(train_stream)"
      ],
      "execution_count": 41,
      "outputs": [
        {
          "output_type": "stream",
          "text": [
            "<generator object TFDS.<locals>.gen at 0x7ff4608270f8>\n"
          ],
          "name": "stdout"
        }
      ]
    },
    {
      "cell_type": "code",
      "metadata": {
        "id": "m1KlbAMu8tl2",
        "colab_type": "code",
        "colab": {
          "base_uri": "https://localhost:8080/",
          "height": 71
        },
        "outputId": "2c00f11a-9aa8-4124-8254-9e4e7a349d89"
      },
      "source": [
        "print(next(train_stream))\n",
        "print(next(eval_stream))"
      ],
      "execution_count": 42,
      "outputs": [
        {
          "output_type": "stream",
          "text": [
            "(b'I have been known to fall asleep during films, but this is usually due to a combination of things including, really tired, being warm and comfortable on the sette and having just eaten a lot. However on this occasion I fell asleep because the film was rubbish. The plot development was constant. Constantly slow and boring. Things seemed to happen, but with no explanation of what was causing them or why. I admit, I may have missed part of the film, but i watched the majority of it and everything just seemed to happen of its own accord without any real concern for anything else. I cant recommend this film at all.', 0)\n",
            "(b\"There are films that make careers. For George Romero, it was NIGHT OF THE LIVING DEAD; for Kevin Smith, CLERKS; for Robert Rodriguez, EL MARIACHI. Add to that list Onur Tukel's absolutely amazing DING-A-LING-LESS. Flawless film-making, and as assured and as professional as any of the aforementioned movies. I haven't laughed this hard since I saw THE FULL MONTY. (And, even then, I don't think I laughed quite this hard... So to speak.) Tukel's talent is considerable: DING-A-LING-LESS is so chock full of double entendres that one would have to sit down with a copy of this script and do a line-by-line examination of it to fully appreciate the, uh, breadth and width of it. Every shot is beautifully composed (a clear sign of a sure-handed director), and the performances all around are solid (there's none of the over-the-top scenery chewing one might've expected from a film like this). DING-A-LING-LESS is a film whose time has come.\", 1)\n"
          ],
          "name": "stdout"
        }
      ]
    },
    {
      "cell_type": "code",
      "metadata": {
        "id": "zdXwAHJo9Ejh",
        "colab_type": "code",
        "colab": {
          "base_uri": "https://localhost:8080/",
          "height": 394
        },
        "outputId": "dab4a6c2-4749-4806-81bf-da1360af80a3"
      },
      "source": [
        "data_pipeline = trax.data.Serial(\n",
        "    trax.data.Tokenize(vocab_file='en_8k.subword', keys=[0]),\n",
        "    trax.data.Shuffle(),\n",
        "    trax.data.FilterByLength(max_length=2048, length_keys=[0]),\n",
        "    trax.data.BucketByLength(boundaries=[  32, 128, 512, 2048],\n",
        "                             batch_sizes=[512, 128,  32,    8, 1],\n",
        "                             length_keys=[0]),\n",
        "    trax.data.AddLossWeights()\n",
        "  )\n",
        "\n",
        "train_batches_stream = data_pipeline(train_stream)\n",
        "eval_batches_stream = data_pipeline(eval_stream)\n",
        "\n",
        "example_batch = next(train_batches_stream)\n",
        "print(f'shapes = {[x.shape for x in example_batch]}') \n",
        "print()\n",
        "\n",
        "train_gen = train_batches_stream\n",
        "print(train_gen.__next__())\n",
        "print()\n",
        "print(train_gen.__next__())\n",
        "print()\n"
      ],
      "execution_count": 70,
      "outputs": [
        {
          "output_type": "stream",
          "text": [
            "shapes = [(8, 2048), (8,), (8,)]\n",
            "\n",
            "(array([[ 139, 2293,   36, ...,    0,    0,    0],\n",
            "       [ 182, 3898,   22, ...,    0,    0,    0],\n",
            "       [ 139,   96,   13, ...,    0,    0,    0],\n",
            "       ...,\n",
            "       [ 919, 2586, 6582, ...,    0,    0,    0],\n",
            "       [ 728, 1764,  962, ...,    0,    0,    0],\n",
            "       [ 182, 3898,   22, ...,    0,    0,    0]]), array([1, 1, 1, 0, 0, 1, 1, 0, 1, 1, 0, 0, 0, 0, 0, 1, 0, 1, 1, 0, 0, 1,\n",
            "       0, 1, 0, 1, 0, 0, 0, 0, 0, 1]), array([1., 1., 1., 1., 1., 1., 1., 1., 1., 1., 1., 1., 1., 1., 1., 1., 1.,\n",
            "       1., 1., 1., 1., 1., 1., 1., 1., 1., 1., 1., 1., 1., 1., 1.],\n",
            "      dtype=float32))\n",
            "\n",
            "(array([[ 274,   21,  947, ...,    0,    0,    0],\n",
            "       [  28,  380, 1548, ...,    0,    0,    0],\n",
            "       [ 182,   25,   12, ...,    0,    0,    0],\n",
            "       ...,\n",
            "       [ 182, 1077, 1476, ...,    0,    0,    0],\n",
            "       [ 284,  297,  305, ...,    0,    0,    0],\n",
            "       [ 139, 2519,  114, ...,    0,    0,    0]]), array([1, 1, 0, 1, 1, 0, 0, 0]), array([1., 1., 1., 1., 1., 1., 1., 1.], dtype=float32))\n",
            "\n"
          ],
          "name": "stdout"
        }
      ]
    },
    {
      "cell_type": "code",
      "metadata": {
        "id": "uCStkHKLi2KF",
        "colab_type": "code",
        "colab": {}
      },
      "source": [
        ""
      ],
      "execution_count": null,
      "outputs": []
    },
    {
      "cell_type": "code",
      "metadata": {
        "id": "cFXaSQMYCaSE",
        "colab_type": "code",
        "colab": {
          "base_uri": "https://localhost:8080/",
          "height": 442
        },
        "outputId": "95905f4f-d3c7-4772-c5f2-427580d533a3"
      },
      "source": [
        "import os\n",
        "from trax.supervised import training\n",
        "\n",
        "train_task = training.TrainTask(\n",
        "    labeled_data=train_batches_stream,\n",
        "    loss_layer=tl.CrossEntropyLoss(),\n",
        "    optimizer=trax.optimizers.Adam(0.01),\n",
        "    n_steps_per_checkpoint=500,\n",
        ")\n",
        "\n",
        "eval_task = training.EvalTask(\n",
        "    labeled_data=eval_batches_stream,\n",
        "    metrics=[tl.CrossEntropyLoss(), tl.Accuracy()],\n",
        "    n_eval_batches=20  # For less variance in eval numbers.\n",
        ")\n",
        "\n",
        "output_dir = os.path.expanduser('~/output_dir/')\n",
        "!rm -rf {output_dir}\n",
        "training_loop = training.Loop(model,\n",
        "                              train_task,\n",
        "                              eval_tasks=[eval_task],\n",
        "                              output_dir=output_dir)\n",
        "\n",
        "training_loop.run(2000)"
      ],
      "execution_count": 44,
      "outputs": [
        {
          "output_type": "stream",
          "text": [
            "\n",
            "Step      1: Ran 1 train steps in 1.40 secs\n",
            "Step      1: train CrossEntropyLoss |  0.81095260\n",
            "Step      1: eval  CrossEntropyLoss |  0.79715430\n",
            "Step      1: eval          Accuracy |  0.46250000\n",
            "\n",
            "Step    500: Ran 499 train steps in 24.55 secs\n",
            "Step    500: train CrossEntropyLoss |  0.61700368\n",
            "Step    500: eval  CrossEntropyLoss |  0.54913587\n",
            "Step    500: eval          Accuracy |  0.70468750\n",
            "\n",
            "Step   1000: Ran 500 train steps in 21.85 secs\n",
            "Step   1000: train CrossEntropyLoss |  0.40181661\n",
            "Step   1000: eval  CrossEntropyLoss |  0.40217640\n",
            "Step   1000: eval          Accuracy |  0.83750000\n",
            "\n",
            "Step   1500: Ran 500 train steps in 22.04 secs\n",
            "Step   1500: train CrossEntropyLoss |  0.36357671\n",
            "Step   1500: eval  CrossEntropyLoss |  0.37914133\n",
            "Step   1500: eval          Accuracy |  0.83710938\n",
            "\n",
            "Step   2000: Ran 500 train steps in 21.38 secs\n",
            "Step   2000: train CrossEntropyLoss |  0.31435111\n",
            "Step   2000: eval  CrossEntropyLoss |  0.32641223\n",
            "Step   2000: eval          Accuracy |  0.87968750\n"
          ],
          "name": "stdout"
        }
      ]
    },
    {
      "cell_type": "code",
      "metadata": {
        "id": "GK62lJaMO9JQ",
        "colab_type": "code",
        "colab": {}
      },
      "source": [
        "example_input = next(eval_batches_stream)[0][0]\n",
        "example_input_str = trax.data.detokenize(example_input, vocab_file='en_8k.subword')\n",
        "print(f'example input_str: {example_input_str}')\n",
        "\n",
        "sentiment_log_probs = model(example_input[None, :])\n",
        "print(f'Model returned sentiment probabilities: {np.exp(sentiment_log_probs)}')"
      ],
      "execution_count": null,
      "outputs": []
    },
    {
      "cell_type": "code",
      "metadata": {
        "id": "vZTLATLmcJ1N",
        "colab_type": "code",
        "colab": {}
      },
      "source": [
        ""
      ],
      "execution_count": null,
      "outputs": []
    }
  ]
}