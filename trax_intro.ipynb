{
  "nbformat": 4,
  "nbformat_minor": 0,
  "metadata": {
    "colab": {
      "name": "trax_intro.ipynb",
      "provenance": [],
      "authorship_tag": "ABX9TyNObgyvMgBnQpzTMpl/VGqy",
      "include_colab_link": true
    },
    "kernelspec": {
      "name": "python3",
      "display_name": "Python 3"
    }
  },
  "cells": [
    {
      "cell_type": "markdown",
      "metadata": {
        "id": "view-in-github",
        "colab_type": "text"
      },
      "source": [
        "<a href=\"https://colab.research.google.com/github/akiabe/coding-practice/blob/master/trax_intro.ipynb\" target=\"_parent\"><img src=\"https://colab.research.google.com/assets/colab-badge.svg\" alt=\"Open In Colab\"/></a>"
      ]
    },
    {
      "cell_type": "code",
      "metadata": {
        "id": "eeD1WvAFDMDx",
        "colab_type": "code",
        "colab": {}
      },
      "source": [
        "# install trax\n",
        "!pip install -q -U trax\n",
        "import trax"
      ],
      "execution_count": 32,
      "outputs": []
    },
    {
      "cell_type": "code",
      "metadata": {
        "id": "r7wu0QIiDXwI",
        "colab_type": "code",
        "colab": {}
      },
      "source": [
        "# imports\n",
        "import os\n",
        "import numpy as np\n",
        "from trax import layers as tl"
      ],
      "execution_count": 33,
      "outputs": []
    },
    {
      "cell_type": "code",
      "metadata": {
        "id": "AI_a6ztkD1We",
        "colab_type": "code",
        "colab": {
          "base_uri": "https://localhost:8080/",
          "height": 102
        },
        "outputId": "b07683a3-ab14-415c-8663-de02a6fe3645"
      },
      "source": [
        "# relu rayer\n",
        "relu = tl.Relu()\n",
        "\n",
        "print(\"name :\", relu.name)\n",
        "print(\"input :\", relu.n_in)\n",
        "print(\"output :\", relu.n_out)\n",
        "\n",
        "x = np.array([-2, -1, 0, 1, 2])\n",
        "print(\"x :\", x)\n",
        "\n",
        "y = relu(x)\n",
        "print(\"y :\", y)"
      ],
      "execution_count": 34,
      "outputs": [
        {
          "output_type": "stream",
          "text": [
            "name : Relu\n",
            "input : 1\n",
            "output : 1\n",
            "x : [-2 -1  0  1  2]\n",
            "y : [0 0 0 1 2]\n"
          ],
          "name": "stdout"
        }
      ]
    },
    {
      "cell_type": "code",
      "metadata": {
        "id": "EizlMNecJC7r",
        "colab_type": "code",
        "colab": {
          "base_uri": "https://localhost:8080/",
          "height": 119
        },
        "outputId": "99f9dac0-8543-452b-ab49-f3e37fdb1a60"
      },
      "source": [
        "# concat layer\n",
        "concat = tl.Concatenate()\n",
        "\n",
        "print(\"name :\", concat.name)\n",
        "print(\"input :\", concat.n_in)\n",
        "print(\"output :\", concat.n_out)\n",
        "\n",
        "x1 = np.array([-10, -20, -30])\n",
        "x2 = x1 / -10\n",
        "print(\"x1  :\", x1)\n",
        "print(\"x2 :\", x2)\n",
        "\n",
        "y = concat([x1, x2])\n",
        "print(\"y :\", y)"
      ],
      "execution_count": 35,
      "outputs": [
        {
          "output_type": "stream",
          "text": [
            "name : Concatenate\n",
            "input : 2\n",
            "output : 1\n",
            "x1  : [-10 -20 -30]\n",
            "x2 : [1. 2. 3.]\n",
            "y : [-10. -20. -30.   1.   2.   3.]\n"
          ],
          "name": "stdout"
        }
      ]
    },
    {
      "cell_type": "code",
      "metadata": {
        "id": "qSHHpediJoER",
        "colab_type": "code",
        "colab": {
          "base_uri": "https://localhost:8080/",
          "height": 136
        },
        "outputId": "fa2bc936-8186-4ce5-bda9-28f8229add18"
      },
      "source": [
        "# configure concat layer\n",
        "concat_3 = tl.Concatenate(n_items=3)\n",
        "\n",
        "print(\"name :\", concat_3.name)\n",
        "print(\"input :\", concat_3.n_in)\n",
        "print(\"output :\", concat_3.n_out)\n",
        "\n",
        "x1 = np.array([-10, -20, -30])\n",
        "x2 = x1 / -10\n",
        "x3 = x2 * 0.99\n",
        "print(\"x1 :\", x1)\n",
        "print(\"x2 :\", x2)\n",
        "print(\"x3 :\", x3)\n",
        "\n",
        "y = concat_3([x1, x2, x3])\n",
        "print(\"y :\", y)"
      ],
      "execution_count": 36,
      "outputs": [
        {
          "output_type": "stream",
          "text": [
            "name : Concatenate\n",
            "input : 3\n",
            "output : 1\n",
            "x1 : [-10 -20 -30]\n",
            "x2 : [1. 2. 3.]\n",
            "x3 : [0.99 1.98 2.97]\n",
            "y : [-10.   -20.   -30.     1.     2.     3.     0.99   1.98   2.97]\n"
          ],
          "name": "stdout"
        }
      ]
    },
    {
      "cell_type": "code",
      "metadata": {
        "id": "GoknHsyjO8bs",
        "colab_type": "code",
        "colab": {
          "base_uri": "https://localhost:8080/",
          "height": 292
        },
        "outputId": "58facaf0-e9dc-4a13-dbd4-75cc17c55484"
      },
      "source": [
        "# layer norm\n",
        "norm = tl.LayerNorm()\n",
        "\n",
        "x = np.array([0, 1, 2, 3], dtype=\"float\")\n",
        "\n",
        "from trax import shapes\n",
        "norm.init(shapes.signature(x))\n",
        "\n",
        "print(\"x shape :\", x.shape)\n",
        "print(\"x shape data type :\", type(x.shape))\n",
        "print(\"trax shape :\", shapes.signature(x))\n",
        "print(\"trax shape data type :\", type(shapes.signature(x)))\n",
        "\n",
        "print(\"name :\", norm.name)\n",
        "print(\"input :\", norm.n_in)\n",
        "print(\"output :\", norm.n_out)\n",
        "print(\"weight :\", norm.weights[0])\n",
        "print(\"biases :\", norm.weights[1])\n",
        "\n",
        "print(\"x :\", x)\n",
        "y = norm(x)\n",
        "print(\"y :\", y)"
      ],
      "execution_count": 37,
      "outputs": [
        {
          "output_type": "stream",
          "text": [
            "x shape : (4,)\n",
            "x shape data type : <class 'tuple'>\n",
            "trax shape : ShapeDtype{shape:(4,), dtype:float64}\n",
            "trax shape data type : <class 'trax.shapes.ShapeDtype'>\n",
            "name : LayerNorm\n",
            "input : 1\n",
            "output : 1\n",
            "weight : [1. 1. 1. 1.]\n",
            "biases : [0. 0. 0. 0.]\n",
            "x : [0. 1. 2. 3.]\n",
            "y : [-1.3416404  -0.44721344  0.44721344  1.3416404 ]\n"
          ],
          "name": "stdout"
        },
        {
          "output_type": "stream",
          "text": [
            "/usr/local/lib/python3.6/dist-packages/jax/lax/lax.py:5905: UserWarning: Explicitly requested dtype float64 requested in ones is not available, and will be truncated to dtype float32. To enable more dtypes, set the jax_enable_x64 configuration option or the JAX_ENABLE_X64 shell environment variable. See https://github.com/google/jax#current-gotchas for more.\n",
            "  warnings.warn(msg.format(dtype, fun_name , truncated_dtype))\n",
            "/usr/local/lib/python3.6/dist-packages/jax/lax/lax.py:5905: UserWarning: Explicitly requested dtype float64 requested in zeros is not available, and will be truncated to dtype float32. To enable more dtypes, set the jax_enable_x64 configuration option or the JAX_ENABLE_X64 shell environment variable. See https://github.com/google/jax#current-gotchas for more.\n",
            "  warnings.warn(msg.format(dtype, fun_name , truncated_dtype))\n"
          ],
          "name": "stderr"
        }
      ]
    },
    {
      "cell_type": "code",
      "metadata": {
        "id": "BKk6W2nTZNbJ",
        "colab_type": "code",
        "colab": {}
      },
      "source": [
        "#help(tl.LayerNorm)"
      ],
      "execution_count": 39,
      "outputs": []
    },
    {
      "cell_type": "code",
      "metadata": {
        "id": "85CO5mHoZ2ZN",
        "colab_type": "code",
        "colab": {}
      },
      "source": [
        "#help(shapes.signature)"
      ],
      "execution_count": null,
      "outputs": []
    },
    {
      "cell_type": "code",
      "metadata": {
        "id": "DQg8uWK2Z2WM",
        "colab_type": "code",
        "colab": {
          "base_uri": "https://localhost:8080/",
          "height": 102
        },
        "outputId": "29123921-7f2f-4e60-e766-c2275d15d057"
      },
      "source": [
        "# custom layers\n",
        "def TimesTwo():\n",
        "  layer_name = \"TimesTwo\"\n",
        "  \n",
        "  def func(x):\n",
        "    return x * 2\n",
        "  \n",
        "  return tl.Fn(layer_name, func)\n",
        "\n",
        "times_two = TimesTwo()\n",
        "\n",
        "print(\"name :\", times_two.name)\n",
        "print(\"inputs :\", times_two.n_in)\n",
        "print(\"outputs :\", times_two.n_out)\n",
        "\n",
        "x = np.array([1, 2, 3])\n",
        "print(\"x :\", x)\n",
        "\n",
        "y = times_two(x)\n",
        "print(\"y :\", y)"
      ],
      "execution_count": 41,
      "outputs": [
        {
          "output_type": "stream",
          "text": [
            "name : TimesTwo\n",
            "inputs : 1\n",
            "outputs : 1\n",
            "x : [1 2 3]\n",
            "y : [2 4 6]\n"
          ],
          "name": "stdout"
        }
      ]
    },
    {
      "cell_type": "code",
      "metadata": {
        "id": "-8wYxaWGZ2RB",
        "colab_type": "code",
        "colab": {
          "base_uri": "https://localhost:8080/",
          "height": 224
        },
        "outputId": "e5138f7c-465b-40d4-d44d-a76e5bfb176d"
      },
      "source": [
        "# serial combinator\n",
        "serial = tl.Serial(\n",
        "    tl.LayerNorm(),\n",
        "    tl.Relu(),\n",
        "    times_two,\n",
        ")\n",
        "\n",
        "x = np.array([-2, -1, 0, 1, 2])\n",
        "serial.init(shapes.signature(x))\n",
        "\n",
        "print(\"name :\", serial.name)\n",
        "print(\"sublayers: \", serial.sublayers)\n",
        "print(\"input :\", serial.n_in)\n",
        "print(\"output :\", serial.n_out)\n",
        "print(\"weight & biases :\", serial.weights)\n",
        "\n",
        "print(\"x :\", x)\n",
        "y = serial(x)\n",
        "print(\"y :\", y)"
      ],
      "execution_count": 46,
      "outputs": [
        {
          "output_type": "stream",
          "text": [
            "name : Serial\n",
            "sublayers:  [LayerNorm, Relu, TimesTwo]\n",
            "input : 1\n",
            "output : 1\n",
            "weight & biases : ((DeviceArray([1, 1, 1, 1, 1], dtype=int32), DeviceArray([0, 0, 0, 0, 0], dtype=int32)), (), ())\n",
            "x : [-2 -1  0  1  2]\n",
            "y : [0.        0.        0.        1.4142132 2.8284264]\n"
          ],
          "name": "stdout"
        },
        {
          "output_type": "stream",
          "text": [
            "/usr/local/lib/python3.6/dist-packages/jax/lax/lax.py:5905: UserWarning: Explicitly requested dtype int64 requested in ones is not available, and will be truncated to dtype int32. To enable more dtypes, set the jax_enable_x64 configuration option or the JAX_ENABLE_X64 shell environment variable. See https://github.com/google/jax#current-gotchas for more.\n",
            "  warnings.warn(msg.format(dtype, fun_name , truncated_dtype))\n",
            "/usr/local/lib/python3.6/dist-packages/jax/lax/lax.py:5905: UserWarning: Explicitly requested dtype int64 requested in zeros is not available, and will be truncated to dtype int32. To enable more dtypes, set the jax_enable_x64 configuration option or the JAX_ENABLE_X64 shell environment variable. See https://github.com/google/jax#current-gotchas for more.\n",
            "  warnings.warn(msg.format(dtype, fun_name , truncated_dtype))\n"
          ],
          "name": "stderr"
        }
      ]
    },
    {
      "cell_type": "code",
      "metadata": {
        "id": "Qtqi3XSiZ2F6",
        "colab_type": "code",
        "colab": {
          "base_uri": "https://localhost:8080/",
          "height": 51
        },
        "outputId": "b91302f0-d71c-4db0-b120-df54a68c7ef5"
      },
      "source": [
        "from trax import fastmath\n",
        "\n",
        "x_numpy = np.array([1, 2, 3])\n",
        "print(\"numpy :\", type(x_numpy))\n",
        "\n",
        "x_jax = fastmath.numpy.array([1, 2, 3])\n",
        "print(\"jax trax numpy :\", type(x_jax))"
      ],
      "execution_count": 47,
      "outputs": [
        {
          "output_type": "stream",
          "text": [
            "numpy : <class 'numpy.ndarray'>\n",
            "jax trax numpy : <class 'jax.interpreters.xla.DeviceArray'>\n"
          ],
          "name": "stdout"
        }
      ]
    },
    {
      "cell_type": "code",
      "metadata": {
        "id": "pYD9lc5CnYIV",
        "colab_type": "code",
        "colab": {}
      },
      "source": [
        ""
      ],
      "execution_count": null,
      "outputs": []
    }
  ]
}