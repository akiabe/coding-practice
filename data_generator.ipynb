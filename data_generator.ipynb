{
  "nbformat": 4,
  "nbformat_minor": 0,
  "metadata": {
    "colab": {
      "name": "data-generator.ipynb",
      "provenance": [],
      "authorship_tag": "ABX9TyPwaBMrf+4bW1AUadcDRdiC",
      "include_colab_link": true
    },
    "kernelspec": {
      "name": "python3",
      "display_name": "Python 3"
    }
  },
  "cells": [
    {
      "cell_type": "markdown",
      "metadata": {
        "id": "view-in-github",
        "colab_type": "text"
      },
      "source": [
        "<a href=\"https://colab.research.google.com/github/akiabe/coding-practice/blob/master/data_generator.ipynb\" target=\"_parent\"><img src=\"https://colab.research.google.com/assets/colab-badge.svg\" alt=\"Open In Colab\"/></a>"
      ]
    },
    {
      "cell_type": "code",
      "metadata": {
        "id": "UygZ6m31yUoQ",
        "colab_type": "code",
        "colab": {
          "base_uri": "https://localhost:8080/",
          "height": 85
        },
        "outputId": "b9d3de67-8556-4452-d0aa-f6975f8e09ad"
      },
      "source": [
        "# create circular list\n",
        "a = [1, 2 ,3 ,4]\n",
        "b = [0] * 10\n",
        "\n",
        "a_size = len(a)\n",
        "b_size = len(b)\n",
        "lines_index = [*range(a_size)]\n",
        "print(a_size)\n",
        "print(b_size)\n",
        "print(lines_index)\n",
        "\n",
        "index = 0\n",
        "for i in range(b_size):\n",
        "  if index >= a_size:\n",
        "    index = 0\n",
        "  b[i] = a[lines_index[index]]\n",
        "  index += 1\n",
        "\n",
        "print(b)"
      ],
      "execution_count": 8,
      "outputs": [
        {
          "output_type": "stream",
          "text": [
            "4\n",
            "10\n",
            "[0, 1, 2, 3]\n",
            "[1, 2, 3, 4, 1, 2, 3, 4, 1, 2]\n"
          ],
          "name": "stdout"
        }
      ]
    },
    {
      "cell_type": "code",
      "metadata": {
        "id": "Sx-Skw6UyrB2",
        "colab_type": "code",
        "colab": {
          "base_uri": "https://localhost:8080/",
          "height": 85
        },
        "outputId": "3152cc16-9d49-48ff-e3a3-8d04ba8a9871"
      },
      "source": [
        "# shuffling the data order\n",
        "a = [1, 2 ,3 ,4]\n",
        "b = []\n",
        "\n",
        "a_size = len(a)\n",
        "b_size = 10\n",
        "lines_index = [*range(a_size)]\n",
        "print(a_size)\n",
        "print(b_size)\n",
        "print(lines_index)\n",
        "\n",
        "import random\n",
        "random.shuffle(lines_index)\n",
        "\n",
        "index = 0\n",
        "batch_counter = 1\n",
        "\n",
        "for i in range(b_size):\n",
        "  if index >= a_size:\n",
        "    index = 0\n",
        "    batch_counter += 1\n",
        "    random.shuffle(lines_index)\n",
        "\n",
        "  b.append(a[lines_index[index]])\n",
        "  index += 1\n",
        "\n",
        "print(b)"
      ],
      "execution_count": 9,
      "outputs": [
        {
          "output_type": "stream",
          "text": [
            "4\n",
            "10\n",
            "[0, 1, 2, 3]\n",
            "[1, 4, 2, 3, 3, 2, 1, 4, 4, 2]\n"
          ],
          "name": "stdout"
        }
      ]
    },
    {
      "cell_type": "code",
      "metadata": {
        "id": "yxx7fpuW7N2b",
        "colab_type": "code",
        "colab": {}
      },
      "source": [
        "# data generator\n",
        "def data_generator(batch_size, data_x, data_y, shuffle=True):\n",
        "  data_lng = len(data_x)\n",
        "  index_list = [*range(data_lng)]\n",
        "\n",
        "  if shuffle:\n",
        "    random.shuffle(index_list)\n",
        "  \n",
        "  index = 0\n",
        "  while True:\n",
        "    X = [0] * batch_size\n",
        "    Y = [0] * batch_size\n",
        "\n",
        "    for i in range(batch_size):\n",
        "      if index >= data_lng:\n",
        "        index = 0\n",
        "        if shuffle:\n",
        "          random.shuffle(index_list)\n",
        "      X[i] = data_x[index_list[index]]\n",
        "      Y[i] = data_y[index_list[index]]\n",
        "      index += 1\n",
        "      \n",
        "    yield((X, Y))"
      ],
      "execution_count": 10,
      "outputs": []
    },
    {
      "cell_type": "code",
      "metadata": {
        "id": "sRfIW9Xp_yic",
        "colab_type": "code",
        "colab": {
          "base_uri": "https://localhost:8080/",
          "height": 34
        },
        "outputId": "299ed808-4df5-4c9d-a188-5a4e50e11272"
      },
      "source": [
        "def test_data_generator():\n",
        "    x = [1, 2, 3, 4]\n",
        "    y = [xi ** 2 for xi in x]\n",
        "    \n",
        "    generator = data_generator(3, x, y, shuffle=False)\n",
        "\n",
        "    assert np.allclose(next(generator), ([1, 2, 3], [1, 4, 9])),  \"First batch does not match\"\n",
        "    assert np.allclose(next(generator), ([4, 1, 2], [16, 1, 4])), \"Second batch does not match\"\n",
        "    assert np.allclose(next(generator), ([3, 4, 1], [9, 16, 1])), \"Third batch does not match\"\n",
        "    assert np.allclose(next(generator), ([2, 3, 4], [4, 9, 16])), \"Fourth batch does not match\"\n",
        "\n",
        "    print(\"\\033[92mAll tests passed!\")\n",
        "\n",
        "test_data_generator()"
      ],
      "execution_count": 14,
      "outputs": [
        {
          "output_type": "stream",
          "text": [
            "\u001b[92mAll tests passed!\n"
          ],
          "name": "stdout"
        }
      ]
    },
    {
      "cell_type": "code",
      "metadata": {
        "id": "O3WYCcUjAAYq",
        "colab_type": "code",
        "colab": {}
      },
      "source": [
        ""
      ],
      "execution_count": null,
      "outputs": []
    }
  ]
}