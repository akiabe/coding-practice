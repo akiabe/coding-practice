{
  "nbformat": 4,
  "nbformat_minor": 0,
  "metadata": {
    "colab": {
      "name": "classes-and-subclasses.ipynb",
      "provenance": [],
      "authorship_tag": "ABX9TyOKUIfA4y8wYJMKuiqAk8Lf",
      "include_colab_link": true
    },
    "kernelspec": {
      "name": "python3",
      "display_name": "Python 3"
    }
  },
  "cells": [
    {
      "cell_type": "markdown",
      "metadata": {
        "id": "view-in-github",
        "colab_type": "text"
      },
      "source": [
        "<a href=\"https://colab.research.google.com/github/akiabe/coding-practice/blob/master/classes_and_subclasses.ipynb\" target=\"_parent\"><img src=\"https://colab.research.google.com/assets/colab-badge.svg\" alt=\"Open In Colab\"/></a>"
      ]
    },
    {
      "cell_type": "code",
      "metadata": {
        "id": "rkS6V53kA2JY",
        "colab_type": "code",
        "colab": {}
      },
      "source": [
        "# define class\n",
        "class My_Class:\n",
        "  x = None"
      ],
      "execution_count": 57,
      "outputs": []
    },
    {
      "cell_type": "code",
      "metadata": {
        "id": "53RZ00AJBb56",
        "colab_type": "code",
        "colab": {
          "base_uri": "https://localhost:8080/",
          "height": 51
        },
        "outputId": "eb56e472-278f-4d3f-afaf-e1cf81703251"
      },
      "source": [
        "# create two instance and get x\n",
        "instance_a = My_Class()\n",
        "instance_b = My_Class()\n",
        "print(instance_a.x)\n",
        "print(instance_b.x)"
      ],
      "execution_count": 58,
      "outputs": [
        {
          "output_type": "stream",
          "text": [
            "None\n",
            "None\n"
          ],
          "name": "stdout"
        }
      ]
    },
    {
      "cell_type": "code",
      "metadata": {
        "id": "dQgPxCBFCplo",
        "colab_type": "code",
        "colab": {
          "base_uri": "https://localhost:8080/",
          "height": 34
        },
        "outputId": "f8666300-9675-4376-bf89-87c3c1d2a619"
      },
      "source": [
        "instance_a.x = 5\n",
        "print(instance_a.x)"
      ],
      "execution_count": 59,
      "outputs": [
        {
          "output_type": "stream",
          "text": [
            "5\n"
          ],
          "name": "stdout"
        }
      ]
    },
    {
      "cell_type": "code",
      "metadata": {
        "id": "w0MTPwyVDCAN",
        "colab_type": "code",
        "colab": {}
      },
      "source": [
        "# __init__ method\n",
        "class My_Class():\n",
        "  def __init__(self, y):\n",
        "    self.x = y"
      ],
      "execution_count": 60,
      "outputs": []
    },
    {
      "cell_type": "code",
      "metadata": {
        "id": "qb3L4HUREq4j",
        "colab_type": "code",
        "colab": {
          "base_uri": "https://localhost:8080/",
          "height": 34
        },
        "outputId": "c02be5f0-6f91-43ad-c05c-6dde6646a910"
      },
      "source": [
        "instance_c = My_Class(10)\n",
        "print(instance_c.x)"
      ],
      "execution_count": 61,
      "outputs": [
        {
          "output_type": "stream",
          "text": [
            "10\n"
          ],
          "name": "stdout"
        }
      ]
    },
    {
      "cell_type": "code",
      "metadata": {
        "id": "Uw_9Q4qHHtXr",
        "colab_type": "code",
        "colab": {}
      },
      "source": [
        "# __call__ method\n",
        "class My_Class:\n",
        "  def __init__(self, y):\n",
        "    self.x = y\n",
        "  def __call__(self, z):\n",
        "    self.x += z\n",
        "    print(self.x)"
      ],
      "execution_count": 62,
      "outputs": []
    },
    {
      "cell_type": "code",
      "metadata": {
        "id": "t4zDVkEwKARF",
        "colab_type": "code",
        "colab": {
          "base_uri": "https://localhost:8080/",
          "height": 34
        },
        "outputId": "acecdb06-64e2-4753-e2a8-64464a79b6dd"
      },
      "source": [
        "instance_d = My_Class(5)\n",
        "print(instance_d.x)"
      ],
      "execution_count": 63,
      "outputs": [
        {
          "output_type": "stream",
          "text": [
            "5\n"
          ],
          "name": "stdout"
        }
      ]
    },
    {
      "cell_type": "code",
      "metadata": {
        "id": "ccpemourKQjX",
        "colab_type": "code",
        "colab": {
          "base_uri": "https://localhost:8080/",
          "height": 34
        },
        "outputId": "72d3c1ca-b048-4e30-9908-16ddb027d91f"
      },
      "source": [
        "instance_d(10)"
      ],
      "execution_count": 64,
      "outputs": [
        {
          "output_type": "stream",
          "text": [
            "15\n"
          ],
          "name": "stdout"
        }
      ]
    },
    {
      "cell_type": "code",
      "metadata": {
        "id": "FDMkpQZOKZQz",
        "colab_type": "code",
        "colab": {}
      },
      "source": [
        "class My_Class:\n",
        "  def __init__(self, y, z):\n",
        "    self.x_1 = y\n",
        "    self.x_2 = z\n",
        "  def __call__(self):\n",
        "    result = self.x_1 + self.x_2\n",
        "    print(f\"Addition of {self.x_1} and {self.x_2} is {result}\")\n",
        "    return result"
      ],
      "execution_count": 65,
      "outputs": []
    },
    {
      "cell_type": "code",
      "metadata": {
        "id": "G1ed3Ej5QkzS",
        "colab_type": "code",
        "colab": {
          "base_uri": "https://localhost:8080/",
          "height": 51
        },
        "outputId": "c37dc031-57d0-445d-ae7a-1f4cc6619126"
      },
      "source": [
        "instance_e = My_Class(10, 15)\n",
        "print(instance_e.x_1)\n",
        "print(instance_e.x_2)"
      ],
      "execution_count": 66,
      "outputs": [
        {
          "output_type": "stream",
          "text": [
            "10\n",
            "15\n"
          ],
          "name": "stdout"
        }
      ]
    },
    {
      "cell_type": "code",
      "metadata": {
        "id": "A1IUglfVQzKq",
        "colab_type": "code",
        "colab": {
          "base_uri": "https://localhost:8080/",
          "height": 51
        },
        "outputId": "36bc1704-38be-4db4-c31e-cb7217bb47d0"
      },
      "source": [
        "instance_e()"
      ],
      "execution_count": 67,
      "outputs": [
        {
          "output_type": "stream",
          "text": [
            "Addition of 10 and 15 is 25\n"
          ],
          "name": "stdout"
        },
        {
          "output_type": "execute_result",
          "data": {
            "text/plain": [
              "25"
            ]
          },
          "metadata": {
            "tags": []
          },
          "execution_count": 67
        }
      ]
    },
    {
      "cell_type": "code",
      "metadata": {
        "id": "Pd0WgIQTRA9r",
        "colab_type": "code",
        "colab": {}
      },
      "source": [
        "# custom methods\n",
        "class My_Class:\n",
        "  def __init__(self, y, z):\n",
        "    self.x_1 = y\n",
        "    self.x_2 = z\n",
        "  def __call__(self):\n",
        "    a = self.x_1 - 2 * self.x_2\n",
        "    return a\n",
        "  def my_method(self, w):\n",
        "    result = self.x_1 * self.x_2 + w\n",
        "    return result"
      ],
      "execution_count": 68,
      "outputs": []
    },
    {
      "cell_type": "code",
      "metadata": {
        "id": "Dzbw9q-eW8Pd",
        "colab_type": "code",
        "colab": {
          "base_uri": "https://localhost:8080/",
          "height": 51
        },
        "outputId": "63b15cd7-5fb0-483c-a225-8f2d298c973f"
      },
      "source": [
        "instance_f = My_Class(1, 10)\n",
        "print(instance_f.x_1)\n",
        "print(instance_f.x_2)"
      ],
      "execution_count": 69,
      "outputs": [
        {
          "output_type": "stream",
          "text": [
            "1\n",
            "10\n"
          ],
          "name": "stdout"
        }
      ]
    },
    {
      "cell_type": "code",
      "metadata": {
        "id": "SANiHb8rXE-e",
        "colab_type": "code",
        "colab": {
          "base_uri": "https://localhost:8080/",
          "height": 34
        },
        "outputId": "7349a045-d64e-4ce7-eaab-b63cf1b09d3b"
      },
      "source": [
        "instance_f()"
      ],
      "execution_count": 70,
      "outputs": [
        {
          "output_type": "execute_result",
          "data": {
            "text/plain": [
              "-19"
            ]
          },
          "metadata": {
            "tags": []
          },
          "execution_count": 70
        }
      ]
    },
    {
      "cell_type": "code",
      "metadata": {
        "id": "PKbZobpNZXk7",
        "colab_type": "code",
        "colab": {
          "base_uri": "https://localhost:8080/",
          "height": 34
        },
        "outputId": "441223b8-3e6b-430d-c34f-7a66708fbc80"
      },
      "source": [
        "instance_f.my_method(10)"
      ],
      "execution_count": 71,
      "outputs": [
        {
          "output_type": "execute_result",
          "data": {
            "text/plain": [
              "20"
            ]
          },
          "metadata": {
            "tags": []
          },
          "execution_count": 71
        }
      ]
    },
    {
      "cell_type": "code",
      "metadata": {
        "id": "An7Xr9xoZifo",
        "colab_type": "code",
        "colab": {}
      },
      "source": [
        "class My_Class:\n",
        "  def __init__(self, y, z):\n",
        "    self.x_1 = y\n",
        "    self.x_2 = z\n",
        "  def __call__(self):\n",
        "    a = self.x_1 - 2 * self.x_2\n",
        "    return a\n",
        "  def my_method(self, w):\n",
        "    b = self.x_1 * self.x_2 + w\n",
        "    return b\n",
        "  def new_method(self, v):\n",
        "    result = self.my_method(v)\n",
        "    return result"
      ],
      "execution_count": 72,
      "outputs": []
    },
    {
      "cell_type": "code",
      "metadata": {
        "id": "iDELpYr3aqwD",
        "colab_type": "code",
        "colab": {
          "base_uri": "https://localhost:8080/",
          "height": 51
        },
        "outputId": "6e2b0025-c4a5-4518-e5bf-3bb83a793ba6"
      },
      "source": [
        "instance_g = My_Class(1, 10)\n",
        "print(instance_g.x_1)\n",
        "print(instance_g.x_2)"
      ],
      "execution_count": 73,
      "outputs": [
        {
          "output_type": "stream",
          "text": [
            "1\n",
            "10\n"
          ],
          "name": "stdout"
        }
      ]
    },
    {
      "cell_type": "code",
      "metadata": {
        "id": "_ESxlNsLa3Kr",
        "colab_type": "code",
        "colab": {
          "base_uri": "https://localhost:8080/",
          "height": 34
        },
        "outputId": "640b01dd-ff61-401f-c9e9-1acd732dc20f"
      },
      "source": [
        "instance_g.my_method(16)"
      ],
      "execution_count": 74,
      "outputs": [
        {
          "output_type": "execute_result",
          "data": {
            "text/plain": [
              "26"
            ]
          },
          "metadata": {
            "tags": []
          },
          "execution_count": 74
        }
      ]
    },
    {
      "cell_type": "code",
      "metadata": {
        "id": "EjWiNy7ibef0",
        "colab_type": "code",
        "colab": {
          "base_uri": "https://localhost:8080/",
          "height": 34
        },
        "outputId": "b3c170a6-0d31-427e-e049-eff9f9544412"
      },
      "source": [
        "instance_g.new_method(5)"
      ],
      "execution_count": 75,
      "outputs": [
        {
          "output_type": "execute_result",
          "data": {
            "text/plain": [
              "15"
            ]
          },
          "metadata": {
            "tags": []
          },
          "execution_count": 75
        }
      ]
    },
    {
      "cell_type": "code",
      "metadata": {
        "id": "Y_gWJGkUbmBa",
        "colab_type": "code",
        "colab": {}
      },
      "source": [
        "# subclasses and inheritance\n",
        "class sub_c(My_Class):\n",
        "  def additional_method(self):\n",
        "    print(self.x_1)"
      ],
      "execution_count": 76,
      "outputs": []
    },
    {
      "cell_type": "code",
      "metadata": {
        "id": "YqI4W053iU9D",
        "colab_type": "code",
        "colab": {
          "base_uri": "https://localhost:8080/",
          "height": 51
        },
        "outputId": "4c0a6c7e-0175-4661-8057-82f11965d62f"
      },
      "source": [
        "instance_sub_a = sub_c(1, 10)\n",
        "print(instance_sub_a.x_1)\n",
        "print(instance_sub_a.x_2)"
      ],
      "execution_count": 77,
      "outputs": [
        {
          "output_type": "stream",
          "text": [
            "1\n",
            "10\n"
          ],
          "name": "stdout"
        }
      ]
    },
    {
      "cell_type": "code",
      "metadata": {
        "id": "TRTSHuCaocOs",
        "colab_type": "code",
        "colab": {
          "base_uri": "https://localhost:8080/",
          "height": 34
        },
        "outputId": "88dc683f-9260-4dd0-8358-213dbee5be5b"
      },
      "source": [
        "instance_sub_a.my_method(16)"
      ],
      "execution_count": 80,
      "outputs": [
        {
          "output_type": "execute_result",
          "data": {
            "text/plain": [
              "26"
            ]
          },
          "metadata": {
            "tags": []
          },
          "execution_count": 80
        }
      ]
    },
    {
      "cell_type": "code",
      "metadata": {
        "id": "GL8NrnEYoQbd",
        "colab_type": "code",
        "colab": {
          "base_uri": "https://localhost:8080/",
          "height": 34
        },
        "outputId": "2eb2de1f-157f-4448-add9-326a8a414779"
      },
      "source": [
        "instance_sub_a.additional_method()"
      ],
      "execution_count": 78,
      "outputs": [
        {
          "output_type": "stream",
          "text": [
            "1\n"
          ],
          "name": "stdout"
        }
      ]
    },
    {
      "cell_type": "code",
      "metadata": {
        "id": "blhJonIMoZ57",
        "colab_type": "code",
        "colab": {}
      },
      "source": [
        ""
      ],
      "execution_count": null,
      "outputs": []
    }
  ]
}